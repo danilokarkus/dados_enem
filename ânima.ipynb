{
  "nbformat": 4,
  "nbformat_minor": 0,
  "metadata": {
    "colab": {
      "name": "ânima.ipynb",
      "provenance": []
    },
    "kernelspec": {
      "name": "python3",
      "display_name": "Python 3"
    },
    "language_info": {
      "name": "python"
    }
  },
  "cells": [
    {
      "cell_type": "code",
      "execution_count": 1,
      "metadata": {
        "colab": {
          "base_uri": "https://localhost:8080/"
        },
        "id": "r7Y8Zmsu3NWw",
        "outputId": "71eecb54-e455-429e-dd82-cd6893b05724"
      },
      "outputs": [
        {
          "output_type": "stream",
          "name": "stdout",
          "text": [
            "['DADOS', 'DICIONÁRIO']\n",
            "['dado_mg.csv', 'ITENS_PROVA_2019.csv']\n",
            "NU_INSCRICAO;NU_ANO;CO_MUNICIPIO_RESIDENCIA;NO_MUNICIPIO_RESIDENCIA;CO_UF_RESIDENCIA;SG_UF_RESIDENCIA;NU_IDADE;TP_SEXO;TP_ESTADO_CIVIL;TP_COR_RACA;TP_NACIONALIDADE;CO_MUNICIPIO_NASCIMENTO;NO_MUNICIPIO_NASCIMENTO;CO_UF_NASCIMENTO;SG_UF_NASCIMENTO;TP_ST_CONCLUSAO;TP_ANO_CONCLUIU;TP_ESCOLA;TP_ENSINO;IN_TREINEIRO;CO_ESCOLA;CO_MUNICIPIO_ESC;NO_MUNICIPIO_ESC;CO_UF_ESC;SG_UF_ESC;TP_DEPENDENCIA_ADM_ESC;TP_LOCALIZACAO_ESC;TP_SIT_FUNC_ESC;IN_BAIXA_VISAO;IN_CEGUEIRA;IN_SURDEZ;IN_DEFICIENCIA_AUDITIVA;IN_SURDO_CEGUEIRA;IN_DEFICIENCIA_FISICA;IN_DEFICIENCIA_MENTAL;IN_DEFICIT_ATENCAO;IN_DISLEXIA;IN_DISCALCULIA;IN_AUTISMO;IN_VISAO_MONOCULAR;IN_OUTRA_DEF;IN_GESTANTE;IN_LACTANTE;IN_IDOSO;IN_ESTUDA_CLASSE_HOSPITALAR;IN_SEM_RECURSO;IN_BRAILLE;IN_AMPLIADA_24;IN_AMPLIADA_18;IN_LEDOR;IN_ACESSO;IN_TRANSCRICAO;IN_LIBRAS;IN_TEMPO_ADICIONAL;IN_LEITURA_LABIAL;IN_MESA_CADEIRA_RODAS;IN_MESA_CADEIRA_SEPARADA;IN_APOIO_PERNA;IN_GUIA_INTERPRETE;IN_COMPUTADOR;IN_CADEIRA_ESPECIAL;IN_CADEIRA_CANHOTO;IN_CADEIRA_ACOLCHOADA;IN_PROVA_DEITADO;IN_MOBILIARIO_OBESO;IN_LAMINA_OVERLAY;IN_PROTETOR_AURICULAR;IN_MEDIDOR_GLICOSE;IN_MAQUINA_BRAILE;IN_SOROBAN;IN_MARCA_PASSO;IN_SONDA;IN_MEDICAMENTOS;IN_SALA_INDIVIDUAL;IN_SALA_ESPECIAL;IN_SALA_ACOMPANHANTE;IN_MOBILIARIO_ESPECIFICO;IN_MATERIAL_ESPECIFICO;IN_NOME_SOCIAL;CO_MUNICIPIO_PROVA;NO_MUNICIPIO_PROVA;CO_UF_PROVA;SG_UF_PROVA;TP_PRESENCA_CN;TP_PRESENCA_CH;TP_PRESENCA_LC;TP_PRESENCA_MT;CO_PROVA_CN;CO_PROVA_CH;CO_PROVA_LC;CO_PROVA_MT;NU_NOTA_CN;NU_NOTA_CH;NU_NOTA_LC;NU_NOTA_MT;TX_RESPOSTAS_CN;TX_RESPOSTAS_CH;TX_RESPOSTAS_LC;TX_RESPOSTAS_MT;TP_LINGUA;TX_GABARITO_CN;TX_GABARITO_CH;TX_GABARITO_LC;TX_GABARITO_MT;TP_STATUS_REDACAO;NU_NOTA_COMP1;NU_NOTA_COMP2;NU_NOTA_COMP3;NU_NOTA_COMP4;NU_NOTA_COMP5;NU_NOTA_REDACAO;Q001;Q002;Q003;Q004;Q005;Q006;Q007;Q008;Q009;Q010;Q011;Q012;Q013;Q014;Q015;Q016;Q017;Q018;Q019;Q020;Q021;Q022;Q023;Q024;Q025\n"
          ]
        }
      ],
      "source": [
        "fname = \"DESAFIO_ENEM\"\n",
        "import os\n",
        "if fname in os.listdir(\"/content/drive/MyDrive/{}\".format(fname)):\n",
        "    print(fname)\n",
        "print(os.listdir(\"/content/drive/MyDrive/{}\".format(fname)))\n",
        "data = os.listdir(\"/content/drive/MyDrive/{}\".format(fname))\n",
        "\n",
        "print(os.listdir(\"/content/drive/MyDrive/{}\".format(fname)+\"/\"+data[0]))\n",
        "import pandas as pd\n",
        "itens = pd.read_csv(\"/content/drive/MyDrive/DESAFIO_ENEM/DADOS/ITENS_PROVA_2019.csv\")\n",
        "dados = pd.read_csv(\"/content/drive/MyDrive/DESAFIO_ENEM/DADOS/dado_mg.csv\")\n",
        "for col in dados.columns:\n",
        "   print(col) \n"
      ]
    },
    {
      "cell_type": "code",
      "source": [
        "#str(dados).split(\";\")\n",
        "print(dados.columns)\n",
        "print(len(dados[dados.columns[0]][0].split(';')))\n",
        "#dados['NU_INSCRICAO;NU_ANO;CO_MUNICIPIO_RESIDENCIA;NO_MUNICIPIO_RESIDENCIA;CO_UF_RESIDENCIA;SG_UF_RESIDENCIA;NU_IDADE;TP_SEXO;TP_ESTADO_CIVIL;TP_COR_RACA;TP_NACIONALIDADE;CO_MUNICIPIO_NASCIMENTO;NO_MUNICIPIO_NASCIMENTO;CO_UF_NASCIMENTO;SG_UF_NASCIMENTO;TP_ST_CONCLUSAO;TP_ANO_CONCLUIU;TP_ESCOLA;TP_ENSINO;IN_TREINEIRO;CO_ESCOLA;CO_MUNICIPIO_ESC;NO_MUNICIPIO_ESC;CO_UF_ESC;SG_UF_ESC;TP_DEPENDENCIA_ADM_ESC;TP_LOCALIZACAO_ESC;TP_SIT_FUNC_ESC;IN_BAIXA_VISAO;IN_CEGUEIRA;IN_SURDEZ;IN_DEFICIENCIA_AUDITIVA;IN_SURDO_CEGUEIRA;IN_DEFICIENCIA_FISICA;IN_DEFICIENCIA_MENTAL;IN_DEFICIT_ATENCAO;IN_DISLEXIA;IN_DISCALCULIA;IN_AUTISMO;IN_VISAO_MONOCULAR;IN_OUTRA_DEF;IN_GESTANTE;IN_LACTANTE;IN_IDOSO;IN_ESTUDA_CLASSE_HOSPITALAR;IN_SEM_RECURSO;IN_BRAILLE;IN_AMPLIADA_24;IN_AMPLIADA_18;IN_LEDOR;IN_ACESSO;IN_TRANSCRICAO;IN_LIBRAS;IN_TEMPO_ADICIONAL;IN_LEITURA_LABIAL;IN_MESA_CADEIRA_RODAS;IN_MESA_CADEIRA_SEPARADA;IN_APOIO_PERNA;IN_GUIA_INTERPRETE;IN_COMPUTADOR;IN_CADEIRA_ESPECIAL;IN_CADEIRA_CANHOTO;IN_CADEIRA_ACOLCHOADA;IN_PROVA_DEITADO;IN_MOBILIARIO_OBESO;IN_LAMINA_OVERLAY;IN_PROTETOR_AURICULAR;IN_MEDIDOR_GLICOSE;IN_MAQUINA_BRAILE;IN_SOROBAN;IN_MARCA_PASSO;IN_SONDA;IN_MEDICAMENTOS;IN_SALA_INDIVIDUAL;IN_SALA_ESPECIAL;IN_SALA_ACOMPANHANTE;IN_MOBILIARIO_ESPECIFICO;IN_MATERIAL_ESPECIFICO;IN_NOME_SOCIAL;CO_MUNICIPIO_PROVA;NO_MUNICIPIO_PROVA;CO_UF_PROVA;SG_UF_PROVA;TP_PRESENCA_CN;TP_PRESENCA_CH;TP_PRESENCA_LC;TP_PRESENCA_MT;CO_PROVA_CN;CO_PROVA_CH;CO_PROVA_LC;CO_PROVA_MT;NU_NOTA_CN;NU_NOTA_CH;NU_NOTA_LC;NU_NOT  A_MT;TX_RESPOSTAS_CN;TX_RESPOSTAS_CH;TX_RESPOSTAS_LC;TX_RESPOSTAS_MT;TP_LINGUA;TX_GABARITO_CN;TX_GABARITO_CH;TX_GABARITO_LC;TX_GABARITO_MT;TP_STATUS_REDACAO;NU_NOTA_COMP1;NU_NOTA_COMP2;NU_NOTA_COMP3;NU_NOTA_COMP4;NU_NOTA_COMP5;NU_NOTA_REDACAO;Q001;Q002;Q003;Q004;Q005;Q006;Q007;Q008;Q009;Q010;Q011;Q012;Q013;Q014;Q015;Q016;Q017;Q018;Q019;Q020;Q021;Q022;Q023;Q024;Q025'][0].split(';')\n",
        "print(dados)\n",
        "print(dados[dados.columns[0]][0].split(';'))\n",
        "for i in range(534627):\n",
        "    if len(dados[dados.columns[0]][i].split(';')) != 136:\n",
        "        print(len(dados[dados.columns[0]][i].split(';')))"
      ],
      "metadata": {
        "colab": {
          "base_uri": "https://localhost:8080/",
          "height": 556
        },
        "id": "9elARrB15LcV",
        "outputId": "2bb10c7e-072c-4efa-e0f4-5c9e2d9acdc2"
      },
      "execution_count": 2,
      "outputs": [
        {
          "output_type": "stream",
          "name": "stdout",
          "text": [
            "Index(['NU_INSCRICAO;NU_ANO;CO_MUNICIPIO_RESIDENCIA;NO_MUNICIPIO_RESIDENCIA;CO_UF_RESIDENCIA;SG_UF_RESIDENCIA;NU_IDADE;TP_SEXO;TP_ESTADO_CIVIL;TP_COR_RACA;TP_NACIONALIDADE;CO_MUNICIPIO_NASCIMENTO;NO_MUNICIPIO_NASCIMENTO;CO_UF_NASCIMENTO;SG_UF_NASCIMENTO;TP_ST_CONCLUSAO;TP_ANO_CONCLUIU;TP_ESCOLA;TP_ENSINO;IN_TREINEIRO;CO_ESCOLA;CO_MUNICIPIO_ESC;NO_MUNICIPIO_ESC;CO_UF_ESC;SG_UF_ESC;TP_DEPENDENCIA_ADM_ESC;TP_LOCALIZACAO_ESC;TP_SIT_FUNC_ESC;IN_BAIXA_VISAO;IN_CEGUEIRA;IN_SURDEZ;IN_DEFICIENCIA_AUDITIVA;IN_SURDO_CEGUEIRA;IN_DEFICIENCIA_FISICA;IN_DEFICIENCIA_MENTAL;IN_DEFICIT_ATENCAO;IN_DISLEXIA;IN_DISCALCULIA;IN_AUTISMO;IN_VISAO_MONOCULAR;IN_OUTRA_DEF;IN_GESTANTE;IN_LACTANTE;IN_IDOSO;IN_ESTUDA_CLASSE_HOSPITALAR;IN_SEM_RECURSO;IN_BRAILLE;IN_AMPLIADA_24;IN_AMPLIADA_18;IN_LEDOR;IN_ACESSO;IN_TRANSCRICAO;IN_LIBRAS;IN_TEMPO_ADICIONAL;IN_LEITURA_LABIAL;IN_MESA_CADEIRA_RODAS;IN_MESA_CADEIRA_SEPARADA;IN_APOIO_PERNA;IN_GUIA_INTERPRETE;IN_COMPUTADOR;IN_CADEIRA_ESPECIAL;IN_CADEIRA_CANHOTO;IN_CADEIRA_ACOLCHOADA;IN_PROVA_DEITADO;IN_MOBILIARIO_OBESO;IN_LAMINA_OVERLAY;IN_PROTETOR_AURICULAR;IN_MEDIDOR_GLICOSE;IN_MAQUINA_BRAILE;IN_SOROBAN;IN_MARCA_PASSO;IN_SONDA;IN_MEDICAMENTOS;IN_SALA_INDIVIDUAL;IN_SALA_ESPECIAL;IN_SALA_ACOMPANHANTE;IN_MOBILIARIO_ESPECIFICO;IN_MATERIAL_ESPECIFICO;IN_NOME_SOCIAL;CO_MUNICIPIO_PROVA;NO_MUNICIPIO_PROVA;CO_UF_PROVA;SG_UF_PROVA;TP_PRESENCA_CN;TP_PRESENCA_CH;TP_PRESENCA_LC;TP_PRESENCA_MT;CO_PROVA_CN;CO_PROVA_CH;CO_PROVA_LC;CO_PROVA_MT;NU_NOTA_CN;NU_NOTA_CH;NU_NOTA_LC;NU_NOTA_MT;TX_RESPOSTAS_CN;TX_RESPOSTAS_CH;TX_RESPOSTAS_LC;TX_RESPOSTAS_MT;TP_LINGUA;TX_GABARITO_CN;TX_GABARITO_CH;TX_GABARITO_LC;TX_GABARITO_MT;TP_STATUS_REDACAO;NU_NOTA_COMP1;NU_NOTA_COMP2;NU_NOTA_COMP3;NU_NOTA_COMP4;NU_NOTA_COMP5;NU_NOTA_REDACAO;Q001;Q002;Q003;Q004;Q005;Q006;Q007;Q008;Q009;Q010;Q011;Q012;Q013;Q014;Q015;Q016;Q017;Q018;Q019;Q020;Q021;Q022;Q023;Q024;Q025'], dtype='object')\n",
            "136\n",
            "       NU_INSCRICAO;NU_ANO;CO_MUNICIPIO_RESIDENCIA;NO_MUNICIPIO_RESIDENCIA;CO_UF_RESIDENCIA;SG_UF_RESIDENCIA;NU_IDADE;TP_SEXO;TP_ESTADO_CIVIL;TP_COR_RACA;TP_NACIONALIDADE;CO_MUNICIPIO_NASCIMENTO;NO_MUNICIPIO_NASCIMENTO;CO_UF_NASCIMENTO;SG_UF_NASCIMENTO;TP_ST_CONCLUSAO;TP_ANO_CONCLUIU;TP_ESCOLA;TP_ENSINO;IN_TREINEIRO;CO_ESCOLA;CO_MUNICIPIO_ESC;NO_MUNICIPIO_ESC;CO_UF_ESC;SG_UF_ESC;TP_DEPENDENCIA_ADM_ESC;TP_LOCALIZACAO_ESC;TP_SIT_FUNC_ESC;IN_BAIXA_VISAO;IN_CEGUEIRA;IN_SURDEZ;IN_DEFICIENCIA_AUDITIVA;IN_SURDO_CEGUEIRA;IN_DEFICIENCIA_FISICA;IN_DEFICIENCIA_MENTAL;IN_DEFICIT_ATENCAO;IN_DISLEXIA;IN_DISCALCULIA;IN_AUTISMO;IN_VISAO_MONOCULAR;IN_OUTRA_DEF;IN_GESTANTE;IN_LACTANTE;IN_IDOSO;IN_ESTUDA_CLASSE_HOSPITALAR;IN_SEM_RECURSO;IN_BRAILLE;IN_AMPLIADA_24;IN_AMPLIADA_18;IN_LEDOR;IN_ACESSO;IN_TRANSCRICAO;IN_LIBRAS;IN_TEMPO_ADICIONAL;IN_LEITURA_LABIAL;IN_MESA_CADEIRA_RODAS;IN_MESA_CADEIRA_SEPARADA;IN_APOIO_PERNA;IN_GUIA_INTERPRETE;IN_COMPUTADOR;IN_CADEIRA_ESPECIAL;IN_CADEIRA_CANHOTO;IN_CADEIRA_ACOLCHOADA;IN_PROVA_DEITADO;IN_MOBILIARIO_OBESO;IN_LAMINA_OVERLAY;IN_PROTETOR_AURICULAR;IN_MEDIDOR_GLICOSE;IN_MAQUINA_BRAILE;IN_SOROBAN;IN_MARCA_PASSO;IN_SONDA;IN_MEDICAMENTOS;IN_SALA_INDIVIDUAL;IN_SALA_ESPECIAL;IN_SALA_ACOMPANHANTE;IN_MOBILIARIO_ESPECIFICO;IN_MATERIAL_ESPECIFICO;IN_NOME_SOCIAL;CO_MUNICIPIO_PROVA;NO_MUNICIPIO_PROVA;CO_UF_PROVA;SG_UF_PROVA;TP_PRESENCA_CN;TP_PRESENCA_CH;TP_PRESENCA_LC;TP_PRESENCA_MT;CO_PROVA_CN;CO_PROVA_CH;CO_PROVA_LC;CO_PROVA_MT;NU_NOTA_CN;NU_NOTA_CH;NU_NOTA_LC;NU_NOTA_MT;TX_RESPOSTAS_CN;TX_RESPOSTAS_CH;TX_RESPOSTAS_LC;TX_RESPOSTAS_MT;TP_LINGUA;TX_GABARITO_CN;TX_GABARITO_CH;TX_GABARITO_LC;TX_GABARITO_MT;TP_STATUS_REDACAO;NU_NOTA_COMP1;NU_NOTA_COMP2;NU_NOTA_COMP3;NU_NOTA_COMP4;NU_NOTA_COMP5;NU_NOTA_REDACAO;Q001;Q002;Q003;Q004;Q005;Q006;Q007;Q008;Q009;Q010;Q011;Q012;Q013;Q014;Q015;Q016;Q017;Q018;Q019;Q020;Q021;Q022;Q023;Q024;Q025\n",
            "0       190001237802;2019;3118601;Contagem;31;MG;22.0;...                                                                                                                                                                                                                                                                                                                                                                                                                                                                                                                                                                                                                                                                                                                                                                                                                                                                                                                                                                                                                                                                                                                                                                                                                                                                                                                                                                                                                                                                                                                                                                                                                                                                                                                                                                                                                                                                                  \n",
            "1       190001237803;2019;3170206;Uberlândia;31;MG;30....                                                                                                                                                                                                                                                                                                                                                                                                                                                                                                                                                                                                                                                                                                                                                                                                                                                                                                                                                                                                                                                                                                                                                                                                                                                                                                                                                                                                                                                                                                                                                                                                                                                                                                                                                                                                                                                                                  \n",
            "2       190001237804;2019;3124104;Esmeraldas;31;MG;27....                                                                                                                                                                                                                                                                                                                                                                                                                                                                                                                                                                                                                                                                                                                                                                                                                                                                                                                                                                                                                                                                                                                                                                                                                                                                                                                                                                                                                                                                                                                                                                                                                                                                                                                                                                                                                                                                                  \n",
            "3       190001237805;2019;3118304;Conselheiro Lafaiete...                                                                                                                                                                                                                                                                                                                                                                                                                                                                                                                                                                                                                                                                                                                                                                                                                                                                                                                                                                                                                                                                                                                                                                                                                                                                                                                                                                                                                                                                                                                                                                                                                                                                                                                                                                                                                                                                                  \n",
            "4       190001237806;2019;3162922;São Joaquim de Bicas...                                                                                                                                                                                                                                                                                                                                                                                                                                                                                                                                                                                                                                                                                                                                                                                                                                                                                                                                                                                                                                                                                                                                                                                                                                                                                                                                                                                                                                                                                                                                                                                                                                                                                                                                                                                                                                                                                  \n",
            "...                                                   ...                                                                                                                                                                                                                                                                                                                                                                                                                                                                                                                                                                                                                                                                                                                                                                                                                                                                                                                                                                                                                                                                                                                                                                                                                                                                                                                                                                                                                                                                                                                                                                                                                                                                                                                                                                                                                                                                                  \n",
            "534622  190005766803;2019;3171204;Vespasiano;31;MG;23....                                                                                                                                                                                                                                                                                                                                                                                                                                                                                                                                                                                                                                                                                                                                                                                                                                                                                                                                                                                                                                                                                                                                                                                                                                                                                                                                                                                                                                                                                                                                                                                                                                                                                                                                                                                                                                                                                  \n",
            "534623  190005766804;2019;3170206;Uberlândia;31;MG;28....                                                                                                                                                                                                                                                                                                                                                                                                                                                                                                                                                                                                                                                                                                                                                                                                                                                                                                                                                                                                                                                                                                                                                                                                                                                                                                                                                                                                                                                                                                                                                                                                                                                                                                                                                                                                                                                                                  \n",
            "534624  190005766805;2019;3162500;São João del Rei;31;...                                                                                                                                                                                                                                                                                                                                                                                                                                                                                                                                                                                                                                                                                                                                                                                                                                                                                                                                                                                                                                                                                                                                                                                                                                                                                                                                                                                                                                                                                                                                                                                                                                                                                                                                                                                                                                                                                  \n",
            "534625  190005766806;2019;3158201;Santa Maria do Suaçu...                                                                                                                                                                                                                                                                                                                                                                                                                                                                                                                                                                                                                                                                                                                                                                                                                                                                                                                                                                                                                                                                                                                                                                                                                                                                                                                                                                                                                                                                                                                                                                                                                                                                                                                                                                                                                                                                                  \n",
            "534626  190005766807;2019;3171303;Viçosa;31;MG;29.0;F;...                                                                                                                                                                                                                                                                                                                                                                                                                                                                                                                                                                                                                                                                                                                                                                                                                                                                                                                                                                                                                                                                                                                                                                                                                                                                                                                                                                                                                                                                                                                                                                                                                                                                                                                                                                                                                                                                                  \n",
            "\n",
            "[534627 rows x 1 columns]\n",
            "['190001237802', '2019', '3118601', 'Contagem', '31', 'MG', '22.0', 'F', '1', '1', '1', '3118601.0', 'Contagem', '31.0', 'MG', '1', '4', '1', '1.0', '0', '', '', '', '', '', '', '', '', '0', '0', '0', '0', '0', '0', '0', '0', '0', '0', '0', '0', '0', '0', '0', '0', '0', '0', '0', '0', '0', '0', '0', '0', '0', '0', '0', '0', '0', '0', '0', '0', '0', '0', '0', '0', '0', '0', '0', '0', '0', '0', '0', '0', '0', '0', '0', '0', '0', '0', '0', '3118601', 'Contagem', '31', 'MG', '1', '1', '1', '1', '504.0', '510.0', '513.0', '516.0', '513.6', '575.5', '570.7', '677.0', 'EEBEDEEEEEBDCEEBEEEEABEEBEEBAEDEECECCDBCECEAE', 'EEDCCEDDBCBEABAAABADCEDABDBBCBDCCCCDAEDEDBDCB', 'ABBBE99999ABBCACCCAEEEDCCDADCCAEDEDDEEDBBDECBDECCC', 'CDEEEEEAEECBABABCDCACEEEEEEDEEACEAEDEBEEECEDE', '0', 'BEEAAEBEEBADEADDADAEABCEDDDBCBCBCCACBCDADCCEB', 'EEBCEEDBADBBCBABCCADCEBACDBBACCACACBEADBBADCB', 'ADBBEDCABAABBCBCDAAECDDDBAAAECADECDCEBDEEAECBDBBCC', 'BEDEEEAADBEBACABCDBABECECACADCBDCCEDCDABECDDD', '1.0', '160.0', '120.0', '180.0', '200.0', '200.0', '860.0', 'E', 'E', 'C', 'C', '3', 'G', 'A', 'C', 'D', 'B', 'A', 'B', 'B', 'B', 'A', 'B', 'A', 'A', 'B', 'A', 'A', 'C', 'B', 'B', 'B']\n"
          ]
        },
        {
          "output_type": "error",
          "ename": "KeyboardInterrupt",
          "evalue": "ignored",
          "traceback": [
            "\u001b[0;31m---------------------------------------------------------------------------\u001b[0m",
            "\u001b[0;31mKeyboardInterrupt\u001b[0m                         Traceback (most recent call last)",
            "\u001b[0;32m<ipython-input-2-e9d01f7bb2d3>\u001b[0m in \u001b[0;36m<module>\u001b[0;34m()\u001b[0m\n\u001b[1;32m      6\u001b[0m \u001b[0mprint\u001b[0m\u001b[0;34m(\u001b[0m\u001b[0mdados\u001b[0m\u001b[0;34m[\u001b[0m\u001b[0mdados\u001b[0m\u001b[0;34m.\u001b[0m\u001b[0mcolumns\u001b[0m\u001b[0;34m[\u001b[0m\u001b[0;36m0\u001b[0m\u001b[0;34m]\u001b[0m\u001b[0;34m]\u001b[0m\u001b[0;34m[\u001b[0m\u001b[0;36m0\u001b[0m\u001b[0;34m]\u001b[0m\u001b[0;34m.\u001b[0m\u001b[0msplit\u001b[0m\u001b[0;34m(\u001b[0m\u001b[0;34m';'\u001b[0m\u001b[0;34m)\u001b[0m\u001b[0;34m)\u001b[0m\u001b[0;34m\u001b[0m\u001b[0;34m\u001b[0m\u001b[0m\n\u001b[1;32m      7\u001b[0m \u001b[0;32mfor\u001b[0m \u001b[0mi\u001b[0m \u001b[0;32min\u001b[0m \u001b[0mrange\u001b[0m\u001b[0;34m(\u001b[0m\u001b[0;36m534627\u001b[0m\u001b[0;34m)\u001b[0m\u001b[0;34m:\u001b[0m\u001b[0;34m\u001b[0m\u001b[0;34m\u001b[0m\u001b[0m\n\u001b[0;32m----> 8\u001b[0;31m     \u001b[0;32mif\u001b[0m \u001b[0mlen\u001b[0m\u001b[0;34m(\u001b[0m\u001b[0mdados\u001b[0m\u001b[0;34m[\u001b[0m\u001b[0mdados\u001b[0m\u001b[0;34m.\u001b[0m\u001b[0mcolumns\u001b[0m\u001b[0;34m[\u001b[0m\u001b[0;36m0\u001b[0m\u001b[0;34m]\u001b[0m\u001b[0;34m]\u001b[0m\u001b[0;34m[\u001b[0m\u001b[0mi\u001b[0m\u001b[0;34m]\u001b[0m\u001b[0;34m.\u001b[0m\u001b[0msplit\u001b[0m\u001b[0;34m(\u001b[0m\u001b[0;34m';'\u001b[0m\u001b[0;34m)\u001b[0m\u001b[0;34m)\u001b[0m \u001b[0;34m!=\u001b[0m \u001b[0;36m136\u001b[0m\u001b[0;34m:\u001b[0m\u001b[0;34m\u001b[0m\u001b[0;34m\u001b[0m\u001b[0m\n\u001b[0m\u001b[1;32m      9\u001b[0m         \u001b[0mprint\u001b[0m\u001b[0;34m(\u001b[0m\u001b[0mlen\u001b[0m\u001b[0;34m(\u001b[0m\u001b[0mdados\u001b[0m\u001b[0;34m[\u001b[0m\u001b[0mdados\u001b[0m\u001b[0;34m.\u001b[0m\u001b[0mcolumns\u001b[0m\u001b[0;34m[\u001b[0m\u001b[0;36m0\u001b[0m\u001b[0;34m]\u001b[0m\u001b[0;34m]\u001b[0m\u001b[0;34m[\u001b[0m\u001b[0mi\u001b[0m\u001b[0;34m]\u001b[0m\u001b[0;34m.\u001b[0m\u001b[0msplit\u001b[0m\u001b[0;34m(\u001b[0m\u001b[0;34m';'\u001b[0m\u001b[0;34m)\u001b[0m\u001b[0;34m)\u001b[0m\u001b[0;34m)\u001b[0m\u001b[0;34m\u001b[0m\u001b[0;34m\u001b[0m\u001b[0m\n",
            "\u001b[0;31mKeyboardInterrupt\u001b[0m: "
          ]
        }
      ]
    },
    {
      "cell_type": "code",
      "source": [
        "\n",
        "proper_data = {key : [value] for key,value in zip(dados.columns[0].split(\";\"),dados[dados.columns[0]][1].split(';'))}\n",
        "\n",
        "for i in range(534627):\n",
        "    for key,value in zip(proper_data.keys(),dados[dados.columns[0]][i].split(';')):\n",
        "        proper_data[key].append(value)\n",
        "dados=[]\n",
        "print(proper_data)\n",
        "#proper_data = pd.DataFrame(data = dados[dados.columns[0]][0].split(';'),columns = dados.columns[0].split(\";\"))\n",
        "#proper_data\n",
        "    "
      ],
      "metadata": {
        "colab": {
          "base_uri": "https://localhost:8080/"
        },
        "id": "BZXaKqDJYMpL",
        "outputId": "f143b92a-e3fc-4d9f-fb58-a8942cdebea3"
      },
      "execution_count": 3,
      "outputs": [
        {
          "output_type": "stream",
          "name": "stderr",
          "text": [
            "IOPub data rate exceeded.\n",
            "The notebook server will temporarily stop sending output\n",
            "to the client in order to avoid crashing it.\n",
            "To change this limit, set the config variable\n",
            "`--NotebookApp.iopub_data_rate_limit`.\n",
            "\n",
            "Current values:\n",
            "NotebookApp.iopub_data_rate_limit=1000000.0 (bytes/sec)\n",
            "NotebookApp.rate_limit_window=3.0 (secs)\n",
            "\n"
          ]
        }
      ]
    },
    {
      "cell_type": "code",
      "source": [
        "proper_data = pd.DataFrame(proper_data)"
      ],
      "metadata": {
        "id": "BQ_Y9x0E0ER0"
      },
      "execution_count": 4,
      "outputs": []
    },
    {
      "cell_type": "code",
      "source": [
        "teste = pd.DataFrame(proper_data.head())\n",
        "teste.to_excel('teste_head.xlsx')"
      ],
      "metadata": {
        "id": "ySC2qNb442Dp"
      },
      "execution_count": 84,
      "outputs": []
    },
    {
      "cell_type": "code",
      "source": [
        "teste = proper_data.groupby(proper_data.NO_MUNICIPIO_RESIDENCIA)\n",
        "proper_data.to_excel('teste_excel.xlsx')"
      ],
      "metadata": {
        "id": "naZ8om0c45gb"
      },
      "execution_count": null,
      "outputs": []
    },
    {
      "cell_type": "code",
      "source": [
        "#print(proper_data.SG_UF_RESIDENCIA.value_counts())\n",
        "proper_data.SG_UF_RESIDENCIA.unique()\n",
        "histogram_data = [['MG',531550],\n",
        "['SP',1235],\n",
        "['RJ',684],\n",
        "['BA',326],\n",
        "['GO',262],\n",
        "['ES',211],\n",
        "['DF',55],\n",
        "['PA',47],\n",
        "['MA',31],\n",
        "['PR',29],\n",
        "['CE',23],\n",
        "['MT',20],\n",
        "['RS',18],\n",
        "['MS',18],\n",
        "['PI',18],\n",
        "['PE',13],\n",
        "['SC',12],\n",
        "['AL',11],\n",
        "['RN',11],\n",
        "['TO',10],\n",
        "['AM',10],\n",
        "['RO',10],\n",
        "['SE',9],\n",
        "['PB',8],\n",
        "['AC',5],\n",
        "['RR',2]]\n",
        "histogram_data = pd.DataFrame(histogram_data)\n",
        "#print(histogram_data)\n",
        "histogram_data[0][1]\n",
        "teste=list(histogram_data[:][0])\n",
        "#print(teste)\n",
        "import matplotlib.pyplot as plt\n",
        "plt.figure(figsize=(20, 10))\n",
        "plt.bar(histogram_data[:][0], histogram_data[:][1])\n",
        "plt.grid()\n",
        "plt.ylabel(\"Quantidade de Estudantes\",fontsize = 20)\n",
        "plt.yscale('log')"
      ],
      "metadata": {
        "colab": {
          "base_uri": "https://localhost:8080/",
          "height": 592
        },
        "id": "18-tNSEU6Qud",
        "outputId": "ef59a8dc-83af-4fbb-f8db-5851ffb25643"
      },
      "execution_count": 5,
      "outputs": [
        {
          "output_type": "display_data",
          "data": {
            "text/plain": [
              "<Figure size 1440x720 with 1 Axes>"
            ],
            "image/png": "[encoded data removed]"
          },
          "metadata": {
            "needs_background": "light"
          }
        }
      ]
    },
    {
      "cell_type": "code",
      "source": [
        "real_data = proper_data.groupby(proper_data['SG_UF_RESIDENCIA']).get_group(\"MG\")\n",
        "#df = df[df['Col1'] == 0]\n",
        "print(real_data['NU_NOTA_REDACAO'][:10])\n",
        "print(real_data['TP_PRESENCA_CH'][:10])\n",
        "fizeram = real_data[real_data['NU_NOTA_REDACAO']!='']\n",
        "nao_fizeram = real_data[real_data['NU_NOTA_REDACAO']=='']\n",
        "fizeram['NU_NOTA_REDACAO'][:10]\n"
      ],
      "metadata": {
        "colab": {
          "base_uri": "https://localhost:8080/"
        },
        "id": "pozIScCT6U_p",
        "outputId": "969a5108-b7e9-466d-e5c7-ad01b5a7a6a7"
      },
      "execution_count": 6,
      "outputs": [
        {
          "output_type": "stream",
          "name": "stdout",
          "text": [
            "0         \n",
            "1    860.0\n",
            "2         \n",
            "3    600.0\n",
            "4    540.0\n",
            "5    580.0\n",
            "6         \n",
            "7         \n",
            "8    840.0\n",
            "9         \n",
            "Name: NU_NOTA_REDACAO, dtype: object\n",
            "0    0\n",
            "1    1\n",
            "2    0\n",
            "3    1\n",
            "4    1\n",
            "5    1\n",
            "6    0\n",
            "7    0\n",
            "8    1\n",
            "9    0\n",
            "Name: TP_PRESENCA_CH, dtype: object\n"
          ]
        },
        {
          "output_type": "execute_result",
          "data": {
            "text/plain": [
              "1     860.0\n",
              "3     600.0\n",
              "4     540.0\n",
              "5     580.0\n",
              "8     840.0\n",
              "10    500.0\n",
              "11    740.0\n",
              "12    580.0\n",
              "14    800.0\n",
              "15    660.0\n",
              "Name: NU_NOTA_REDACAO, dtype: object"
            ]
          },
          "metadata": {},
          "execution_count": 6
        }
      ]
    },
    {
      "cell_type": "code",
      "source": [
        "alfabeto = [\"A\",\"B\",\"C\",\"D\",\"E\",\"F\",\"G\",\"H\",\"I\",\"J\",\"K\",\"L\",\"M\",\"N\",\"O\",\"P\",\"Q\"]\n",
        "renda = [0,998,1497,1996,2495,2994,3992,4990,5988,6986,7984,8982,9980,11976,14970,19960,30000]\n",
        "renda_dict = {letra : valor for letra,valor in zip(alfabeto,renda)}\n",
        "def replace_income(income_dict):\n",
        "    alfabeto = [\"A\",\"B\",\"C\",\"D\",\"E\",\"F\",\"G\",\"H\",\"I\",\"J\",\"K\",\"L\",\"M\",\"N\",\"O\",\"P\",\"Q\"]\n",
        "    renda = [0,998,1497,1996,2495,2994,3992,4990,5988,6986,7984,8982,9980,11976,14970,19960,30000]\n",
        "    renda_dict = {letra : valor for letra,valor in zip(alfabeto,renda)}\n",
        "    for i in income_dict.keys():    \n",
        "        income_dict[i] = renda_dict[income_dict[i]]\n",
        "    return income_dict\n",
        "    \n",
        "#print(nao_fizeram[\"Q006\"].keys())\n",
        "\n",
        "#renda = [0,998]\n",
        "#renda.append(renda[i-1]+499 for i in range(len(alfabeto)-2))\n",
        "\n",
        "for i in nao_fizeram[\"Q006\"].keys():\n",
        "    \n",
        "    nao_fizeram['Q006'][i] = renda_dict[nao_fizeram['Q006'][i]]\n",
        "#nao_fizeram = replace_income(nao_fizeram['Q006'])\n",
        "novo_fizeram = replace_income(fizeram[\"Q006\"])\n",
        "novo_fizeram = pd.DataFrame(novo_fizeram)\n",
        "print(nao_fizeram)\n",
        "nao_fizeram = pd.DataFrame(nao_fizeram)\n",
        "novo_fizeram[\"Q006\"].hist()\n",
        "nao_fizeram[\"Q006\"][:10]\n"
      ],
      "metadata": {
        "colab": {
          "base_uri": "https://localhost:8080/",
          "height": 1000
        },
        "id": "uRxWNt4Sm2wJ",
        "outputId": "edc3eb18-b9a6-4951-e2f5-952857c66699"
      },
      "execution_count": 7,
      "outputs": [
        {
          "output_type": "stream",
          "name": "stderr",
          "text": [
            "/usr/local/lib/python3.7/dist-packages/ipykernel_launcher.py:19: SettingWithCopyWarning: \n",
            "A value is trying to be set on a copy of a slice from a DataFrame\n",
            "\n",
            "See the caveats in the documentation: https://pandas.pydata.org/pandas-docs/stable/user_guide/indexing.html#returning-a-view-versus-a-copy\n",
            "/usr/local/lib/python3.7/dist-packages/ipykernel_launcher.py:9: SettingWithCopyWarning: \n",
            "A value is trying to be set on a copy of a slice from a DataFrame\n",
            "\n",
            "See the caveats in the documentation: https://pandas.pydata.org/pandas-docs/stable/user_guide/indexing.html#returning-a-view-versus-a-copy\n",
            "  if __name__ == '__main__':\n"
          ]
        },
        {
          "output_type": "stream",
          "name": "stdout",
          "text": [
            "        NU_INSCRICAO NU_ANO CO_MUNICIPIO_RESIDENCIA NO_MUNICIPIO_RESIDENCIA  \\\n",
            "0       190001237803   2019                 3170206              Uberlândia   \n",
            "2       190001237803   2019                 3170206              Uberlândia   \n",
            "6       190001237807   2019                 3104007                   Araxá   \n",
            "7       190001237808   2019                 3143302           Montes Claros   \n",
            "9       190001237810   2019                 3106200          Belo Horizonte   \n",
            "...              ...    ...                     ...                     ...   \n",
            "534616  190005794904   2019                 3170206              Uberlândia   \n",
            "534617  190005794905   2019                 3162104             São Gotardo   \n",
            "534618  190005794906   2019                 3106200          Belo Horizonte   \n",
            "534624  190005766804   2019                 3170206              Uberlândia   \n",
            "534626  190005766806   2019                 3158201   Santa Maria do Suaçuí   \n",
            "\n",
            "       CO_UF_RESIDENCIA SG_UF_RESIDENCIA NU_IDADE TP_SEXO TP_ESTADO_CIVIL  \\\n",
            "0                    31               MG     30.0       F               1   \n",
            "2                    31               MG     30.0       F               1   \n",
            "6                    31               MG     19.0       M               1   \n",
            "7                    31               MG     35.0       M               2   \n",
            "9                    31               MG     31.0       F               2   \n",
            "...                 ...              ...      ...     ...             ...   \n",
            "534616               31               MG     44.0       F               0   \n",
            "534617               31               MG     45.0       F               2   \n",
            "534618               31               MG     38.0       M               1   \n",
            "534624               31               MG     28.0       F               2   \n",
            "534626               31               MG     18.0       F               1   \n",
            "\n",
            "       TP_COR_RACA  ... Q016 Q017 Q018 Q019 Q020 Q021 Q022 Q023 Q024 Q025  \n",
            "0                2  ...    A    A    A    B    A    A    B    A    A    A  \n",
            "2                2  ...    A    A    A    B    A    A    B    A    A    A  \n",
            "6                1  ...    B    A    A    B    A    A    D    A    B    B  \n",
            "7                3  ...    B    A    A    B    B    B    C    A    B    B  \n",
            "9                0  ...    B    A    B    B    A    A    C    A    B    B  \n",
            "...            ...  ...  ...  ...  ...  ...  ...  ...  ...  ...  ...  ...  \n",
            "534616           2  ...    B    A    A    C    B    B    D    B    B    B  \n",
            "534617           1  ...    A    A    A    B    A    A    B    A    B    B  \n",
            "534618           2  ...    A    A    B    C    B    B    D    B    B    B  \n",
            "534624           1  ...    A    A    B    B    B    B    C    B    B    B  \n",
            "534626           3  ...    A    A    A    B    A    A    B    A    A    A  \n",
            "\n",
            "[122532 rows x 136 columns]\n"
          ]
        },
        {
          "output_type": "execute_result",
          "data": {
            "text/plain": [
              "0      998\n",
              "2      998\n",
              "6     1996\n",
              "7     2994\n",
              "9     1996\n",
              "13    1996\n",
              "19     998\n",
              "22    1497\n",
              "24    1996\n",
              "27    2495\n",
              "Name: Q006, dtype: object"
            ]
          },
          "metadata": {},
          "execution_count": 7
        },
        {
          "output_type": "display_data",
          "data": {
            "text/plain": [
              "<Figure size 432x288 with 1 Axes>"
            ],
            "image/png": "[encoded data removed]"
          },
          "metadata": {
            "needs_background": "light"
          }
        }
      ]
    },
    {
      "cell_type": "code",
      "source": [
        "nao_fizeram[\"Q006\"].hist()"
      ],
      "metadata": {
        "colab": {
          "base_uri": "https://localhost:8080/",
          "height": 283
        },
        "id": "2aNSW2jRsK1d",
        "outputId": "0df644e9-de75-4c35-d371-ed641aabe2a9"
      },
      "execution_count": 8,
      "outputs": [
        {
          "output_type": "execute_result",
          "data": {
            "text/plain": [
              "<matplotlib.axes._subplots.AxesSubplot at 0x7fc036e58550>"
            ]
          },
          "metadata": {},
          "execution_count": 8
        },
        {
          "output_type": "display_data",
          "data": {
            "text/plain": [
              "<Figure size 432x288 with 1 Axes>"
            ],
            "image/png": "[encoded data removed]"
          },
          "metadata": {
            "needs_background": "light"
          }
        }
      ]
    },
    {
      "cell_type": "code",
      "source": [
        "import numpy as np\n",
        "#plt.figure(figsize = (30,10))\n",
        "#nao_fizeram[\"NU_IDADE\"].hist(bins =100)\n",
        "idade_nfizeram = nao_fizeram[nao_fizeram['NU_IDADE']!='']\n",
        "fizeram = real_data[real_data['NU_NOTA_REDACAO']!='']\n",
        "#print(idade_nfizeram[\"NU_IDADE\"].min(),'OASIHDSFHIUFUIHFDS')\n",
        "#plt.xticks(np.arange(int(float(idade_nfizeram[\"NU_IDADE\"].min())),int(float(nao_fizeram[\"NU_IDADE\"].max())),20))\n",
        "#print(nao_fizeram[\"NU_IDADE\"].unique())\n",
        "#print(nao_fizeram[\"NU_IDADE\"].value_counts(sort=False))\n",
        "#nao_fizeram[\"NU_IDADE\"].value_counts().transpose().hist()\n",
        "a=[list(nao_fizeram[\"NU_IDADE\"].value_counts(sort=False)),list(nao_fizeram[\"NU_IDADE\"].unique())]\n",
        "\n",
        "\n",
        "print(a[0][0],a[1][0])\n",
        "#plt.bar(a[:][0],a[0][:])\n",
        "a=np.array(a)\n",
        "print(a)\n",
        "#a=np.sort(a)\n",
        "print(a)\n",
        "a[1][0]=0\n",
        "a[0][0]=0\n",
        "#print(a[0][:])\n",
        "#print(a[1][:])\n",
        "#plt.figure(figsize=(20,10))\n",
        "#plt.plot(a[1][:],a[0][:],'bo')"
      ],
      "metadata": {
        "colab": {
          "base_uri": "https://localhost:8080/"
        },
        "id": "9CLB4qUR9mPw",
        "outputId": "419a762a-3480-4ceb-b294-781e657afdea"
      },
      "execution_count": 9,
      "outputs": [
        {
          "output_type": "stream",
          "name": "stdout",
          "text": [
            "2608 30.0\n",
            "[['2608' '13619' '1569' '2396' '6779' '3373' '4417' '1038' '11674' '1891'\n",
            "  '3768' '2848' '1334' '8151' '9134' '6069' '5079' '12644' '322' '1693'\n",
            "  '567' '1408' '819' '497' '236' '384' '710' '1108' '2007' '72' '569'\n",
            "  '877' '6061' '49' '306' '37' '1441' '115' '251' '486' '2012' '168'\n",
            "  '207' '434' '121' '77' '48' '659' '135' '59' '19' '19' '9' '15' '89'\n",
            "  '18' '1' '3' '11' '1' '5' '1' '7' '1' '2' '3' '1' '1']\n",
            " ['30.0' '19.0' '35.0' '31.0' '23.0' '28.0' '26.0' '40.0' '20.0' '33.0'\n",
            "  '27.0' '29.0' '38.0' '22.0' '21.0' '24.0' '25.0' '18.0' '50.0' '34.0'\n",
            "  '44.0' '37.0' '42.0' '46.0' '53.0' '49.0' '43.0' '39.0' '32.0' '61.0'\n",
            "  '45.0' '41.0' '17.0' '63.0' '51.0' '64.0' '36.0' '57.0' '52.0' '47.0'\n",
            "  '16.0' '55.0' '54.0' '48.0' '58.0' '60.0' '14.0' '15.0' '56.0' '62.0'\n",
            "  '66.0' '67.0' '69.0' '68.0' '59.0' '65.0' '12.0' '73.0' '71.0' ''\n",
            "  '70.0' '76.0' '72.0' '77.0' '74.0' '75.0' '78.0' '91.0']]\n",
            "[['2608' '13619' '1569' '2396' '6779' '3373' '4417' '1038' '11674' '1891'\n",
            "  '3768' '2848' '1334' '8151' '9134' '6069' '5079' '12644' '322' '1693'\n",
            "  '567' '1408' '819' '497' '236' '384' '710' '1108' '2007' '72' '569'\n",
            "  '877' '6061' '49' '306' '37' '1441' '115' '251' '486' '2012' '168'\n",
            "  '207' '434' '121' '77' '48' '659' '135' '59' '19' '19' '9' '15' '89'\n",
            "  '18' '1' '3' '11' '1' '5' '1' '7' '1' '2' '3' '1' '1']\n",
            " ['30.0' '19.0' '35.0' '31.0' '23.0' '28.0' '26.0' '40.0' '20.0' '33.0'\n",
            "  '27.0' '29.0' '38.0' '22.0' '21.0' '24.0' '25.0' '18.0' '50.0' '34.0'\n",
            "  '44.0' '37.0' '42.0' '46.0' '53.0' '49.0' '43.0' '39.0' '32.0' '61.0'\n",
            "  '45.0' '41.0' '17.0' '63.0' '51.0' '64.0' '36.0' '57.0' '52.0' '47.0'\n",
            "  '16.0' '55.0' '54.0' '48.0' '58.0' '60.0' '14.0' '15.0' '56.0' '62.0'\n",
            "  '66.0' '67.0' '69.0' '68.0' '59.0' '65.0' '12.0' '73.0' '71.0' ''\n",
            "  '70.0' '76.0' '72.0' '77.0' '74.0' '75.0' '78.0' '91.0']]\n"
          ]
        }
      ]
    },
    {
      "cell_type": "code",
      "source": [
        "a=[2608,13619,1569,2396,6779,3373,4417,1038,11674,1891,3768,2848,1334,8151,9134,6069,5079,12644,322,1693,567,1408,819,497,236,384,710,1108,2007,72,569,877,6061,49,306,37,1441,115,251,486,2012,168,207,434,121,77,48,659,135,59,19,19,9,15,89,18,1,3,11,1,5,1,7,1,2,3,1,1]\n",
        "b=[30,19,35,31,23,28,26,40,20,33,27,29,38,22,21,24,25,18,50,34,44,37,42,46,53,49,43,39,32,61,45,41,17,63,51,64,36,57,52,47,16,55,54,48,58,60,14,15,56,62,66,67,69,68,59,65,12,73,71,70,76,72,77,74,75,78,91]\n",
        "print(len(a),len(b))"
      ],
      "metadata": {
        "colab": {
          "base_uri": "https://localhost:8080/"
        },
        "id": "eDhNZ0ps-khh",
        "outputId": "74c0dbb5-818d-4e92-aa1c-5681b1934e84"
      },
      "execution_count": 120,
      "outputs": [
        {
          "output_type": "stream",
          "name": "stdout",
          "text": [
            "68 67\n"
          ]
        }
      ]
    },
    {
      "cell_type": "code",
      "source": [
        "a=[2608,13619,1569,2396,6779,3373,4417,1038,11674,1891\n",
        ",3768,2848,1334,8151,9134,6069,5079,12644,322,1693\n",
        ",567,1408,819,497,236,384,710,1108,2007,72,569\n",
        ",877,6061,49,306,37,1441,115,251,486,2012,168\n",
        ",207,434,121,77,48,659,135,59,19,19,9,15,89\n",
        ",18,1,3,11,5,1,7,1,2,3,1,1]\n",
        "b=[30,19,35,31,23,28,26,40,20,33\n",
        ",27,29,38,22,21,24,25,18,50,34\n",
        ",44,37,42,46,53,49,43,39,32,61\n",
        ",45,41,17,63,51,64,36,57,52,47\n",
        ",16,55,54,48,58,60,14,15,56,62\n",
        ",66,67,69,68,59,65,12,73,71\n",
        ",70,76,72,77,74,75,78,91]\n",
        "c=[30,22,27,23,19,35,20,31,17,18\n",
        ",26,28,24,40,32,21,43,33,29,38\n",
        ",41,25,36,42,50,34,52,37,44,39\n",
        ",15,49,16,46,53,61,45,47,54,57\n",
        ",48,63,51,64,68,14,55,60,59,58\n",
        ",56,65,13,62,66,67,74,69,75,70\n",
        ",72,12,71,73,81,11,76,77,78,83\n",
        ",10,91,82]\n",
        "d=[6093, 24994, 9258, 19720, 63422, 3718, 44318, 5498, 81973, 94398, 11105, 7980, 16256, 2571, 4723, 31005, 1863, 4386, 6746, 3255, 2228, 13208, 3515, 2050, 931, 3977, 790, 3411, 1597, 2819, 8477, 1124, 32783, 1345, 713, 201, 1540, 1349, 663, 409, 1198, 145, 840, 101, 43, 311, 579, 256, 304, 331, 486, 79, 14, 164, 59, 68, 7, 38, 9, 25, 17, 3, 30, 10, 2, 1, 3, 3, 1, 1, 1, 1, 1]\n",
        "#print(np.array(a)+np.array(d))\n",
        "print(len(a),len(b))\n",
        "plt.plot(b,a,'bo')\n",
        "\n",
        "norm = real_data[real_data[\"NU_IDADE\"]!='']\n",
        "norm = real_data[\"NU_IDADE\"].value_counts(sort=False)\n",
        "print(real_data[\"NU_IDADE\"].unique())\n",
        "print(list(norm))\n",
        "\n",
        "dict_idade_nfizeram = { key : value for key,value in zip(b,a)}\n",
        "dict_idade_todos = { key : value for key,value in zip(c,d)}\n",
        "qtd = []\n",
        "idade = []\n",
        "for key in dict_idade_nfizeram.keys():\n",
        "    dict_idade_nfizeram[key]/=dict_idade_todos[key]\n",
        "    qtd.append(dict_idade_nfizeram[key])\n",
        "    idade.append(key)\n",
        "plt.figure()\n",
        "plt.plot(idade,qtd,'bo')"
      ],
      "metadata": {
        "colab": {
          "base_uri": "https://localhost:8080/",
          "height": 734
        },
        "id": "Oqnjp5iuPbeD",
        "outputId": "8dfe8890-11d0-4ffb-a49a-e09321ff54ff"
      },
      "execution_count": 10,
      "outputs": [
        {
          "output_type": "stream",
          "name": "stdout",
          "text": [
            "67 67\n",
            "['30.0' '22.0' '27.0' '23.0' '19.0' '35.0' '20.0' '31.0' '17.0' '18.0'\n",
            " '26.0' '28.0' '24.0' '40.0' '32.0' '21.0' '43.0' '33.0' '29.0' '38.0'\n",
            " '41.0' '25.0' '36.0' '42.0' '50.0' '34.0' '52.0' '37.0' '44.0' '39.0'\n",
            " '15.0' '49.0' '16.0' '46.0' '53.0' '61.0' '45.0' '47.0' '54.0' '57.0'\n",
            " '48.0' '63.0' '51.0' '64.0' '68.0' '14.0' '55.0' '60.0' '59.0' '58.0'\n",
            " '56.0' '65.0' '13.0' '62.0' '66.0' '67.0' '74.0' '69.0' '75.0' '70.0'\n",
            " '72.0' '12.0' '71.0' '73.0' '' '81.0' '11.0' '76.0' '77.0' '78.0' '83.0'\n",
            " '10.0' '91.0' '82.0']\n",
            "[6093, 24994, 9258, 19720, 63422, 3718, 44318, 5498, 81973, 94398, 11105, 7980, 16256, 2571, 4723, 31005, 1863, 4386, 6746, 3255, 2228, 13208, 3515, 2050, 931, 3977, 790, 3411, 1597, 2819, 8477, 1124, 32783, 1345, 713, 201, 1540, 1349, 663, 409, 1198, 145, 840, 101, 43, 311, 579, 256, 304, 331, 486, 79, 14, 164, 59, 68, 7, 38, 9, 25, 17, 3, 30, 10, 7, 2, 1, 3, 3, 1, 1, 1, 1, 1]\n"
          ]
        },
        {
          "output_type": "execute_result",
          "data": {
            "text/plain": [
              "[<matplotlib.lines.Line2D at 0x7fc03704f050>]"
            ]
          },
          "metadata": {},
          "execution_count": 10
        },
        {
          "output_type": "display_data",
          "data": {
            "text/plain": [
              "<Figure size 432x288 with 1 Axes>"
            ],
            "image/png": "[encoded data removed]"
          },
          "metadata": {
            "needs_background": "light"
          }
        },
        {
          "output_type": "display_data",
          "data": {
            "text/plain": [
              "<Figure size 432x288 with 1 Axes>"
            ],
            "image/png": "[encoded data removed]"
          },
          "metadata": {
            "needs_background": "light"
          }
        }
      ]
    },
    {
      "cell_type": "code",
      "source": [
        "nao_fizeram[\"TP_SEXO\"].value_counts()\n",
        "print(real_data[\"TP_SEXO\"].value_counts())\n",
        "\n",
        "labels ='F','M'\n",
        "plt.pie([73376,49156],labels =labels )\n",
        "plt.figure()\n",
        "plt.pie([321888,209662],labels = labels)"
      ],
      "metadata": {
        "colab": {
          "base_uri": "https://localhost:8080/",
          "height": 607
        },
        "id": "QyG2c49sQim9",
        "outputId": "0487a93c-9b04-4910-8db9-de0ac16bc7ab"
      },
      "execution_count": 11,
      "outputs": [
        {
          "output_type": "stream",
          "name": "stdout",
          "text": [
            "F    321888\n",
            "M    209662\n",
            "Name: TP_SEXO, dtype: int64\n"
          ]
        },
        {
          "output_type": "execute_result",
          "data": {
            "text/plain": [
              "([<matplotlib.patches.Wedge at 0x7fc037075a90>,\n",
              "  <matplotlib.patches.Wedge at 0x7fc037075dd0>],\n",
              " [Text(-0.35815528257148616, 1.0400599951763068, 'F'),\n",
              "  Text(0.35815518519403955, -1.0400600287092199, 'M')])"
            ]
          },
          "metadata": {},
          "execution_count": 11
        },
        {
          "output_type": "display_data",
          "data": {
            "text/plain": [
              "<Figure size 432x288 with 1 Axes>"
            ],
            "image/png": "[encoded data removed]"
          },
          "metadata": {}
        },
        {
          "output_type": "display_data",
          "data": {
            "text/plain": [
              "<Figure size 432x288 with 1 Axes>"
            ],
            "image/png": "[encoded data removed]"
          },
          "metadata": {}
        }
      ]
    },
    {
      "cell_type": "code",
      "source": [
        "print(nao_fizeram[\"TP_ESCOLA\"].value_counts())\n",
        "plt.pie([16440,436],labels = labels)\n",
        "plt.figure()\n",
        "fizeram[\"TP_ESCOLA\"].value_counts()\n",
        "labels = 'Pública','Privada'\n",
        "plt.pie([107871,16338],labels = labels)"
      ],
      "metadata": {
        "colab": {
          "base_uri": "https://localhost:8080/",
          "height": 625
        },
        "id": "6Mep5HegjvGw",
        "outputId": "3f390dfe-0cce-46fa-9a02-a2899a28c3a8"
      },
      "execution_count": 12,
      "outputs": [
        {
          "output_type": "stream",
          "name": "stdout",
          "text": [
            "1    105656\n",
            "2     16440\n",
            "3       436\n",
            "Name: TP_ESCOLA, dtype: int64\n"
          ]
        },
        {
          "output_type": "execute_result",
          "data": {
            "text/plain": [
              "([<matplotlib.patches.Wedge at 0x7fc03774ad10>,\n",
              "  <matplotlib.patches.Wedge at 0x7fc03774ac50>],\n",
              " [Text(-1.0074097620528324, 0.44173020195664203, 'Pública'),\n",
              "  Text(1.0074097620528322, -0.4417302019566426, 'Privada')])"
            ]
          },
          "metadata": {},
          "execution_count": 12
        },
        {
          "output_type": "display_data",
          "data": {
            "text/plain": [
              "<Figure size 432x288 with 1 Axes>"
            ],
            "image/png": "[encoded data removed]"
          },
          "metadata": {}
        },
        {
          "output_type": "display_data",
          "data": {
            "text/plain": [
              "<Figure size 432x288 with 1 Axes>"
            ],
            "image/png": "[encoded data removed]"
          },
          "metadata": {}
        }
      ]
    },
    {
      "cell_type": "code",
      "source": [
        "labels = [1,2,3,4,5,6,7,8,9,10,11,12,13]\n",
        "fez_concluiu=[56905,35623,22831,16315,13399,10415,8598,6338,5557,4920,3828,3386,24973]\n",
        "print(fizeram[\"TP_ANO_CONCLUIU\"].value_counts())\n",
        "plt.pie(fez_concluiu,labels = labels)\n",
        "plt.figure()\n",
        "nao_fizeram[\"TP_ANO_CONCLUIU\"].value_counts()\n",
        "nfez_concluiu=[16540,16338,9273,7680,6676,5657,5157,4064,3645,3420,2584,2429,13046]\n",
        "plt.pie(nfez_concluiu,labels = labels)"
      ],
      "metadata": {
        "colab": {
          "base_uri": "https://localhost:8080/",
          "height": 1000
        },
        "id": "Lq61FJG7n0Gp",
        "outputId": "92494d1e-289b-4015-bb4b-116fb418fbde"
      },
      "execution_count": 13,
      "outputs": [
        {
          "output_type": "stream",
          "name": "stdout",
          "text": [
            "0     195930\n",
            "1      56905\n",
            "2      35623\n",
            "13     24973\n",
            "3      22831\n",
            "4      16315\n",
            "5      13399\n",
            "6      10415\n",
            "7       8598\n",
            "8       6338\n",
            "9       5557\n",
            "10      4920\n",
            "11      3828\n",
            "12      3386\n",
            "Name: TP_ANO_CONCLUIU, dtype: int64\n"
          ]
        },
        {
          "output_type": "execute_result",
          "data": {
            "text/plain": [
              "([<matplotlib.patches.Wedge at 0x7fc0376e7650>,\n",
              "  <matplotlib.patches.Wedge at 0x7fc0376e7ed0>,\n",
              "  <matplotlib.patches.Wedge at 0x7fc0376dc4d0>,\n",
              "  <matplotlib.patches.Wedge at 0x7fc0376dcc10>,\n",
              "  <matplotlib.patches.Wedge at 0x7fc0376f7bd0>,\n",
              "  <matplotlib.patches.Wedge at 0x7fc0376f7b50>,\n",
              "  <matplotlib.patches.Wedge at 0x7fc0376ff810>,\n",
              "  <matplotlib.patches.Wedge at 0x7fc0376ff310>,\n",
              "  <matplotlib.patches.Wedge at 0x7fc0376f7e90>,\n",
              "  <matplotlib.patches.Wedge at 0x7fc0376f7390>,\n",
              "  <matplotlib.patches.Wedge at 0x7fc0376e7710>,\n",
              "  <matplotlib.patches.Wedge at 0x7fc037776d10>,\n",
              "  <matplotlib.patches.Wedge at 0x7fc037776610>],\n",
              " [Text(0.9443744744790519, 0.5640539441865597, '1'),\n",
              "  Text(-0.0416521493405744, 1.0992111255147077, '2'),\n",
              "  Text(-0.8418760716210401, 0.7079863558232783, '3'),\n",
              "  Text(-1.0880776608716958, 0.1615147173231566, '4'),\n",
              "  Text(-1.0441738818957176, -0.34597818481347664, '5'),\n",
              "  Text(-0.8259520717050144, -0.7265006367830622, '6'),\n",
              "  Text(-0.5248087838266546, -0.9667345759919772, '7'),\n",
              "  Text(-0.21550137879199702, -1.0786839925292062, '8'),\n",
              "  Text(0.0591077419313929, -1.0984107951234694, '9'),\n",
              "  Text(0.3079454010774273, -1.0560159231542214, '10'),\n",
              "  Text(0.5071632834830327, -0.9761072706863263, '11'),\n",
              "  Text(0.6590054416741477, -0.8807450413393548, '12'),\n",
              "  Text(1.002288761489286, -0.4532297856410957, '13')])"
            ]
          },
          "metadata": {},
          "execution_count": 13
        },
        {
          "output_type": "display_data",
          "data": {
            "text/plain": [
              "<Figure size 432x288 with 1 Axes>"
            ],
            "image/png": "[encoded data removed]"
          },
          "metadata": {}
        },
        {
          "output_type": "display_data",
          "data": {
            "text/plain": [
              "<Figure size 432x288 with 1 Axes>"
            ],
            "image/png": "[encoded data removed]"
          },
          "metadata": {}
        }
      ]
    },
    {
      "cell_type": "code",
      "source": [
        "dict_pesos = {'NU_NOTA_CN': 1,'NU_NOTA_CH' : 3,'NU_NOTA_MT' : 1,'NU_NOTA_REDACAO' : 3,'NU_NOTA_LC' : 2}\n",
        "avg = []\n",
        "print(list(fizeram['NU_NOTA_CN'])[2])\n",
        "notas = fizeram[fizeram[dict_pesos.keys()]!='']\n",
        "notas = notas[dict_pesos.keys()]\n",
        "print(notas.to_numpy())\n",
        "notas = notas.to_numpy()\n",
        "notas =notas.astype(np.float64)\n",
        "av = np.dot(notas,[1,3,1,3,2])/10"
      ],
      "metadata": {
        "colab": {
          "base_uri": "https://localhost:8080/"
        },
        "id": "d5YbzHTvpim3",
        "outputId": "960e5884-4500-4850-aee8-fac06cb62824"
      },
      "execution_count": 14,
      "outputs": [
        {
          "output_type": "stream",
          "name": "stdout",
          "text": [
            "560.0\n",
            "[['513.6' '575.5' '677.0' '860.0' '570.7']\n",
            " ['394.3' '494.1' '397.5' '600.0' '479.5']\n",
            " ['560.0' '592.0' '695.1' '540.0' '591.1']\n",
            " ...\n",
            " ['562.0' '601.2' '712.4' '840.0' '594.8']\n",
            " ['524.0' '476.4' '545.5' '700.0' '552.9']\n",
            " ['439.5' '630.1' '626.8' '580.0' '550.5']]\n"
          ]
        }
      ]
    },
    {
      "cell_type": "code",
      "source": [
        "plt.hist(av,bins = 100)\n",
        "plt.figure()\n",
        "renda = novo_fizeram[novo_fizeram[\"Q006\"]!='']\n",
        "#print(renda[\"Q006\"])\n",
        "renda = renda[\"Q006\"].to_numpy()\n",
        "#print(renda)\n",
        "renda = renda.astype(np.float64)\n",
        "\n",
        "\n",
        "plt.figure()\n",
        "plt.plot(renda,av,'bo')\n",
        "\n",
        "\n",
        "concluiu = fizeram[fizeram[\"TP_ANO_CONCLUIU\"]!=\"\"]\n",
        "concluiu = concluiu[\"TP_ANO_CONCLUIU\"]\n",
        "concluiu = concluiu.to_numpy()\n",
        "concluiu = concluiu.astype(np.float64)\n"
      ],
      "metadata": {
        "colab": {
          "base_uri": "https://localhost:8080/",
          "height": 531
        },
        "id": "SpJM-dpr3EbT",
        "outputId": "e0c0f87c-fdaf-4fec-b2e8-02493e12bf2b"
      },
      "execution_count": 15,
      "outputs": [
        {
          "output_type": "display_data",
          "data": {
            "text/plain": [
              "<Figure size 432x288 with 1 Axes>"
            ],
            "image/png": "[encoded data removed]"
          },
          "metadata": {
            "needs_background": "light"
          }
        },
        {
          "output_type": "display_data",
          "data": {
            "text/plain": [
              "<Figure size 432x288 with 0 Axes>"
            ]
          },
          "metadata": {}
        },
        {
          "output_type": "display_data",
          "data": {
            "text/plain": [
              "<Figure size 432x288 with 1 Axes>"
            ],
            "image/png": "[encoded data removed]"
          },
          "metadata": {
            "needs_background": "light"
          }
        }
      ]
    },
    {
      "cell_type": "code",
      "source": [
        "plt.plot(concluiu,av,'bo')"
      ],
      "metadata": {
        "colab": {
          "base_uri": "https://localhost:8080/",
          "height": 283
        },
        "id": "Um0rcBoJCJjx",
        "outputId": "3941b0e0-7398-4095-93f2-116cc40103ea"
      },
      "execution_count": 21,
      "outputs": [
        {
          "output_type": "execute_result",
          "data": {
            "text/plain": [
              "[<matplotlib.lines.Line2D at 0x7fc036ca66d0>]"
            ]
          },
          "metadata": {},
          "execution_count": 21
        },
        {
          "output_type": "display_data",
          "data": {
            "text/plain": [
              "<Figure size 432x288 with 1 Axes>"
            ],
            "image/png": "[encoded data removed]"
          },
          "metadata": {
            "needs_background": "light"
          }
        }
      ]
    },
    {
      "cell_type": "code",
      "source": [
        "notas_particular = fizeram[fizeram['TP_ESCOLA']=='3']\n",
        "print(notas_particular)\n",
        "notas_particular = notas_particular[notas_particular[dict_pesos.keys()]!='']\n",
        "print(notas_particular)\n",
        "notas_particular = notas_particular[dict_pesos.keys()]\n",
        "print(notas_particular)\n",
        "#print(notas_particular.to_numpy())\n",
        "notas_particular = notas_particular.to_numpy()\n",
        "notas_particular =notas_particular.astype(np.float64)\n",
        "av_part = np.dot(notas_particular,[1,3,1,3,2])/10\n",
        "av_part"
      ],
      "metadata": {
        "colab": {
          "base_uri": "https://localhost:8080/"
        },
        "id": "ccLeFSJCCQnm",
        "outputId": "5af77066-0fe6-4ad9-81d2-76781c753920"
      },
      "execution_count": 33,
      "outputs": [
        {
          "output_type": "stream",
          "name": "stdout",
          "text": [
            "        NU_INSCRICAO NU_ANO CO_MUNICIPIO_RESIDENCIA NO_MUNICIPIO_RESIDENCIA  \\\n",
            "144     190001244982   2019                 3118601                Contagem   \n",
            "227     190002186872   2019                 3106200          Belo Horizonte   \n",
            "241     190001259289   2019                 3106200          Belo Horizonte   \n",
            "359     190001252150   2019                 3167202             Sete Lagoas   \n",
            "486     190001248609   2019                 3152501            Pouso Alegre   \n",
            "...              ...    ...                     ...                     ...   \n",
            "532955  190005487235   2019                 3170206              Uberlândia   \n",
            "533042  190005513493   2019                 3128709                 Guaxupé   \n",
            "533775  190005795081   2019                 3106200          Belo Horizonte   \n",
            "534284  190005768894   2019                 3106200          Belo Horizonte   \n",
            "534300  190005768910   2019                 3106200          Belo Horizonte   \n",
            "\n",
            "       CO_UF_RESIDENCIA SG_UF_RESIDENCIA NU_IDADE TP_SEXO TP_ESTADO_CIVIL  \\\n",
            "144                  31               MG     17.0       F               1   \n",
            "227                  31               MG     18.0       F               1   \n",
            "241                  31               MG     18.0       M               1   \n",
            "359                  31               MG     18.0       F               1   \n",
            "486                  31               MG     17.0       M               1   \n",
            "...                 ...              ...      ...     ...             ...   \n",
            "532955               31               MG     18.0       M               1   \n",
            "533042               31               MG     18.0       M               1   \n",
            "533775               31               MG     18.0       M               1   \n",
            "534284               31               MG     17.0       F               1   \n",
            "534300               31               MG     21.0       M               1   \n",
            "\n",
            "       TP_COR_RACA  ... Q016 Q017 Q018 Q019 Q020 Q021 Q022 Q023 Q024 Q025  \n",
            "144              3  ...    B    A    B    D    B    B    D    A    C    B  \n",
            "227              1  ...    A    A    B    B    A    A    C    A    A    A  \n",
            "241              1  ...    B    A    A    C    A    B    D    B    B    B  \n",
            "359              4  ...    A    A    A    B    B    A    E    A    A    B  \n",
            "486              2  ...    A    A    B    B    A    A    C    B    A    B  \n",
            "...            ...  ...  ...  ...  ...  ...  ...  ...  ...  ...  ...  ...  \n",
            "532955           1  ...    B    A    B    E    B    B    E    B    D    B  \n",
            "533042           3  ...    A    A    A    B    A    A    B    A    A    B  \n",
            "533775           3  ...    A    A    A    B    A    B    E    A    A    B  \n",
            "534284           1  ...    A    A    A    B    A    B    B    B    B    B  \n",
            "534300           3  ...    B    A    B    E    B    B    E    B    C    B  \n",
            "\n",
            "[16338 rows x 136 columns]\n",
            "       NU_INSCRICAO NU_ANO CO_MUNICIPIO_RESIDENCIA NO_MUNICIPIO_RESIDENCIA  \\\n",
            "144             NaN    NaN                     NaN                     NaN   \n",
            "227             NaN    NaN                     NaN                     NaN   \n",
            "241             NaN    NaN                     NaN                     NaN   \n",
            "359             NaN    NaN                     NaN                     NaN   \n",
            "486             NaN    NaN                     NaN                     NaN   \n",
            "...             ...    ...                     ...                     ...   \n",
            "532955          NaN    NaN                     NaN                     NaN   \n",
            "533042          NaN    NaN                     NaN                     NaN   \n",
            "533775          NaN    NaN                     NaN                     NaN   \n",
            "534284          NaN    NaN                     NaN                     NaN   \n",
            "534300          NaN    NaN                     NaN                     NaN   \n",
            "\n",
            "       CO_UF_RESIDENCIA SG_UF_RESIDENCIA NU_IDADE TP_SEXO TP_ESTADO_CIVIL  \\\n",
            "144                 NaN              NaN      NaN     NaN             NaN   \n",
            "227                 NaN              NaN      NaN     NaN             NaN   \n",
            "241                 NaN              NaN      NaN     NaN             NaN   \n",
            "359                 NaN              NaN      NaN     NaN             NaN   \n",
            "486                 NaN              NaN      NaN     NaN             NaN   \n",
            "...                 ...              ...      ...     ...             ...   \n",
            "532955              NaN              NaN      NaN     NaN             NaN   \n",
            "533042              NaN              NaN      NaN     NaN             NaN   \n",
            "533775              NaN              NaN      NaN     NaN             NaN   \n",
            "534284              NaN              NaN      NaN     NaN             NaN   \n",
            "534300              NaN              NaN      NaN     NaN             NaN   \n",
            "\n",
            "       TP_COR_RACA  ... Q016 Q017 Q018 Q019 Q020 Q021 Q022 Q023 Q024 Q025  \n",
            "144            NaN  ...  NaN  NaN  NaN  NaN  NaN  NaN  NaN  NaN  NaN  NaN  \n",
            "227            NaN  ...  NaN  NaN  NaN  NaN  NaN  NaN  NaN  NaN  NaN  NaN  \n",
            "241            NaN  ...  NaN  NaN  NaN  NaN  NaN  NaN  NaN  NaN  NaN  NaN  \n",
            "359            NaN  ...  NaN  NaN  NaN  NaN  NaN  NaN  NaN  NaN  NaN  NaN  \n",
            "486            NaN  ...  NaN  NaN  NaN  NaN  NaN  NaN  NaN  NaN  NaN  NaN  \n",
            "...            ...  ...  ...  ...  ...  ...  ...  ...  ...  ...  ...  ...  \n",
            "532955         NaN  ...  NaN  NaN  NaN  NaN  NaN  NaN  NaN  NaN  NaN  NaN  \n",
            "533042         NaN  ...  NaN  NaN  NaN  NaN  NaN  NaN  NaN  NaN  NaN  NaN  \n",
            "533775         NaN  ...  NaN  NaN  NaN  NaN  NaN  NaN  NaN  NaN  NaN  NaN  \n",
            "534284         NaN  ...  NaN  NaN  NaN  NaN  NaN  NaN  NaN  NaN  NaN  NaN  \n",
            "534300         NaN  ...  NaN  NaN  NaN  NaN  NaN  NaN  NaN  NaN  NaN  NaN  \n",
            "\n",
            "[16338 rows x 136 columns]\n",
            "       NU_NOTA_CN NU_NOTA_CH NU_NOTA_MT NU_NOTA_REDACAO NU_NOTA_LC\n",
            "144         588.4      686.7      742.0           920.0      661.1\n",
            "227         589.6      607.4      771.6           900.0      620.4\n",
            "241         615.6      660.5      676.7           760.0      656.0\n",
            "359         526.7      542.2      649.7           720.0      530.9\n",
            "486         559.5      475.6      691.4           920.0      592.7\n",
            "...           ...        ...        ...             ...        ...\n",
            "532955      514.4      484.2      558.5           740.0      572.8\n",
            "533042      402.8      444.2      387.3           280.0      467.4\n",
            "533775      582.1      609.8      751.7           780.0      589.3\n",
            "534284      612.3      679.1      699.1           900.0      648.0\n",
            "534300      400.3      321.5      538.4           280.0      462.1\n",
            "\n",
            "[16338 rows x 5 columns]\n"
          ]
        },
        {
          "output_type": "execute_result",
          "data": {
            "text/plain": [
              "array([747.27, 712.42, 686.58, ..., 668.18, 734.47, 366.74])"
            ]
          },
          "metadata": {},
          "execution_count": 33
        }
      ]
    },
    {
      "cell_type": "code",
      "source": [
        "notas_publica = fizeram[fizeram['TP_ESCOLA']=='2']\n",
        "\n",
        "notas_publica = notas_publica[notas_publica[dict_pesos.keys()]!='']\n",
        "notas_publica = notas_publica[dict_pesos.keys()]\n",
        "#print(notas_particular.to_numpy())\n",
        "notas_publica = notas_publica.to_numpy()\n",
        "notas_publica =notas_publica.astype(np.float64)\n",
        "av_pub = np.dot(notas_publica,[1,3,1,3,2])/10\n",
        "av_pub"
      ],
      "metadata": {
        "colab": {
          "base_uri": "https://localhost:8080/"
        },
        "id": "feyn8deASsPc",
        "outputId": "19aa2f0a-1a00-4746-d948-84fc129edf5f"
      },
      "execution_count": 34,
      "outputs": [
        {
          "output_type": "execute_result",
          "data": {
            "text/plain": [
              "array([   nan, 690.55, 419.96, ..., 529.26, 438.58, 518.79])"
            ]
          },
          "metadata": {},
          "execution_count": 34
        }
      ]
    },
    {
      "cell_type": "code",
      "source": [
        "plt.hist(av_part,bins = 100)\n",
        "plt.xlim(0,900)\n",
        "plt.figure()\n",
        "plt.hist(av_pub,bins = 100,color = 'r')\n",
        "plt.xlim(0,900)"
      ],
      "metadata": {
        "colab": {
          "base_uri": "https://localhost:8080/",
          "height": 531
        },
        "id": "3r6wIldPWZZ9",
        "outputId": "23673898-162f-4381-a7d3-67362607bd44"
      },
      "execution_count": 45,
      "outputs": [
        {
          "output_type": "execute_result",
          "data": {
            "text/plain": [
              "(0.0, 900.0)"
            ]
          },
          "metadata": {},
          "execution_count": 45
        },
        {
          "output_type": "display_data",
          "data": {
            "text/plain": [
              "<Figure size 432x288 with 1 Axes>"
            ],
            "image/png": "[encoded data removed]"
          },
          "metadata": {
            "needs_background": "light"
          }
        },
        {
          "output_type": "display_data",
          "data": {
            "text/plain": [
              "<Figure size 432x288 with 1 Axes>"
            ],
            "image/png": "[encoded data removed]"
          },
          "metadata": {
            "needs_background": "light"
          }
        }
      ]
    },
    {
      "cell_type": "code",
      "source": [
        ""
      ],
      "metadata": {
        "id": "Dl5gCSeaWg4d"
      },
      "execution_count": null,
      "outputs": []
    }
  ]
}